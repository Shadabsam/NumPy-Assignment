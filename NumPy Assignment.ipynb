{
 "cells": [
  {
   "cell_type": "markdown",
   "id": "17273fee",
   "metadata": {},
   "source": [
    "# Numpy Assignment:"
   ]
  },
  {
   "cell_type": "code",
   "execution_count": 1,
   "id": "4c6846ba",
   "metadata": {},
   "outputs": [],
   "source": [
    "import numpy as np"
   ]
  },
  {
   "cell_type": "markdown",
   "id": "70e4ac41",
   "metadata": {},
   "source": [
    "1.Create a NumPy array 'arr' of integers from 0 to 5 and print its data type."
   ]
  },
  {
   "cell_type": "code",
   "execution_count": 2,
   "id": "102fbc80",
   "metadata": {},
   "outputs": [],
   "source": [
    "arr=np.arange(6)"
   ]
  },
  {
   "cell_type": "code",
   "execution_count": 3,
   "id": "4f127ba0",
   "metadata": {},
   "outputs": [
    {
     "name": "stdout",
     "output_type": "stream",
     "text": [
      "[0 1 2 3 4 5]\n"
     ]
    },
    {
     "data": {
      "text/plain": [
       "numpy.ndarray"
      ]
     },
     "execution_count": 3,
     "metadata": {},
     "output_type": "execute_result"
    }
   ],
   "source": [
    "print(arr)\n",
    "type(arr)"
   ]
  },
  {
   "cell_type": "markdown",
   "id": "99530e94",
   "metadata": {},
   "source": [
    "2. Given a NumPy array 'arr', check if its data type is float64.\n",
    "     arr = np.array([1.5, 2.6, 3.7])\n"
   ]
  },
  {
   "cell_type": "code",
   "execution_count": 4,
   "id": "187492ee",
   "metadata": {},
   "outputs": [
    {
     "data": {
      "text/plain": [
       "dtype('float64')"
      ]
     },
     "execution_count": 4,
     "metadata": {},
     "output_type": "execute_result"
    }
   ],
   "source": [
    "arr = np.array([1.5, 2.6, 3.7])\n",
    "arr.dtype"
   ]
  },
  {
   "cell_type": "markdown",
   "id": "3bcd04e5",
   "metadata": {},
   "source": [
    "3. Create a NumPy array 'arr' with a data type of complex128 containing three complex numbers.\n"
   ]
  },
  {
   "cell_type": "code",
   "execution_count": 5,
   "id": "f378e388",
   "metadata": {},
   "outputs": [
    {
     "data": {
      "text/plain": [
       "dtype('complex128')"
      ]
     },
     "execution_count": 5,
     "metadata": {},
     "output_type": "execute_result"
    }
   ],
   "source": [
    "arr = np.array([1+2j, 3+4j, 5+6j])\n",
    "arr.dtype"
   ]
  },
  {
   "cell_type": "markdown",
   "id": "818f8323",
   "metadata": {},
   "source": [
    "4. Convert an existing NumPy array 'arr' of integers to float32 data type.\n"
   ]
  },
  {
   "cell_type": "code",
   "execution_count": 6,
   "id": "2f826166",
   "metadata": {
    "scrolled": true
   },
   "outputs": [
    {
     "data": {
      "text/plain": [
       "array([13., 46., 76., 34., 23.])"
      ]
     },
     "execution_count": 6,
     "metadata": {},
     "output_type": "execute_result"
    }
   ],
   "source": [
    "arr=np.array([13,46,76,34,23])\n",
    "float_num=arr.astype(float)\n",
    "float_num"
   ]
  },
  {
   "cell_type": "markdown",
   "id": "cf2c9ce1",
   "metadata": {},
   "source": [
    "5. Given a NumPy array 'arr' with float64 data type, convert it to float32 to reduce decimal precision.\n"
   ]
  },
  {
   "cell_type": "code",
   "execution_count": 7,
   "id": "49343e6d",
   "metadata": {},
   "outputs": [],
   "source": [
    "float64_arr=np.array(1.155454557)"
   ]
  },
  {
   "cell_type": "code",
   "execution_count": 8,
   "id": "42412448",
   "metadata": {},
   "outputs": [],
   "source": [
    "float32_arr=float64_arr.astype(np.float32)"
   ]
  },
  {
   "cell_type": "code",
   "execution_count": 9,
   "id": "43fe33c4",
   "metadata": {},
   "outputs": [
    {
     "data": {
      "text/plain": [
       "array(1.1554545, dtype=float32)"
      ]
     },
     "execution_count": 9,
     "metadata": {},
     "output_type": "execute_result"
    }
   ],
   "source": [
    "float32_arr"
   ]
  },
  {
   "cell_type": "markdown",
   "id": "e01ce281",
   "metadata": {},
   "source": [
    "6. Write a function array_attributes that takes a NumPy array as input and returns its shape, size, and data \n",
    "type."
   ]
  },
  {
   "cell_type": "code",
   "execution_count": 10,
   "id": "08d07a88",
   "metadata": {},
   "outputs": [],
   "source": [
    "def array_attributes(n):\n",
    "    b=np.array(n)\n",
    "    shape=b.shape\n",
    "    size=b.size\n",
    "    dtype=b.dtype\n",
    "    return shape,size,dtype\n"
   ]
  },
  {
   "cell_type": "code",
   "execution_count": 11,
   "id": "8acd99f1",
   "metadata": {},
   "outputs": [
    {
     "data": {
      "text/plain": [
       "((2, 4), 8, dtype('int32'))"
      ]
     },
     "execution_count": 11,
     "metadata": {},
     "output_type": "execute_result"
    }
   ],
   "source": [
    "array_attributes([[1,5,69,2],[2,6,9,7]])"
   ]
  },
  {
   "cell_type": "markdown",
   "id": "44bf3062",
   "metadata": {},
   "source": [
    "7. Create a function array_dimension that takes a NumPy array as input and returns its dimensionality.\n"
   ]
  },
  {
   "cell_type": "code",
   "execution_count": 12,
   "id": "c960a9c5",
   "metadata": {},
   "outputs": [],
   "source": [
    "def array_dimension(arr):\n",
    "    arr1=np.array(arr)\n",
    "    return arr1.ndim"
   ]
  },
  {
   "cell_type": "code",
   "execution_count": 13,
   "id": "445b8101",
   "metadata": {},
   "outputs": [
    {
     "data": {
      "text/plain": [
       "3"
      ]
     },
     "execution_count": 13,
     "metadata": {},
     "output_type": "execute_result"
    }
   ],
   "source": [
    "array_dimension([[[1,2,3],[5,6,9],[2,5,8]]])"
   ]
  },
  {
   "cell_type": "markdown",
   "id": "3d0d9ba0",
   "metadata": {},
   "source": [
    "8. Design a function item_size_info that takes a NumPy array as input and returns the item size and the total \n",
    "size in bytes."
   ]
  },
  {
   "cell_type": "code",
   "execution_count": 14,
   "id": "edd1dfb6",
   "metadata": {},
   "outputs": [],
   "source": [
    "def  item_size_info(arr):\n",
    "    ar=np.array(arr)\n",
    "    return ar.itemsize,ar.nbytes "
   ]
  },
  {
   "cell_type": "code",
   "execution_count": 15,
   "id": "27d60f81",
   "metadata": {},
   "outputs": [
    {
     "data": {
      "text/plain": [
       "(4, 24)"
      ]
     },
     "execution_count": 15,
     "metadata": {},
     "output_type": "execute_result"
    }
   ],
   "source": [
    "item_size_info([[1,3,6],[5,9,3]])"
   ]
  },
  {
   "cell_type": "markdown",
   "id": "f13de9b3",
   "metadata": {},
   "source": [
    "9. Create a function array_strides that takes a NumPy array as input and returns the strides of the array.\n"
   ]
  },
  {
   "cell_type": "code",
   "execution_count": 16,
   "id": "d0f08919",
   "metadata": {},
   "outputs": [],
   "source": [
    "def array_strides(n):\n",
    "    arr=np.array(n)\n",
    "    return arr.strides"
   ]
  },
  {
   "cell_type": "code",
   "execution_count": 17,
   "id": "a661b399",
   "metadata": {},
   "outputs": [
    {
     "data": {
      "text/plain": [
       "(12, 4)"
      ]
     },
     "execution_count": 17,
     "metadata": {},
     "output_type": "execute_result"
    }
   ],
   "source": [
    "array_strides([[1,3,6],[5,9,3]])"
   ]
  },
  {
   "cell_type": "markdown",
   "id": "23823dd9",
   "metadata": {},
   "source": [
    "10. Design a function shape_stride_relationship that takes a NumPy array as input and returns the shape \n",
    "and strides of the array."
   ]
  },
  {
   "cell_type": "code",
   "execution_count": 18,
   "id": "884325b7",
   "metadata": {},
   "outputs": [],
   "source": [
    "def shape_stride_relationship(n):\n",
    "    arr=np.array(n)\n",
    "    return arr.shape,arr.strides"
   ]
  },
  {
   "cell_type": "code",
   "execution_count": 19,
   "id": "30efd76e",
   "metadata": {},
   "outputs": [
    {
     "data": {
      "text/plain": [
       "((2, 3), (12, 4))"
      ]
     },
     "execution_count": 19,
     "metadata": {},
     "output_type": "execute_result"
    }
   ],
   "source": [
    "shape_stride_relationship([[1,3,6],[5,9,3]])"
   ]
  },
  {
   "cell_type": "markdown",
   "id": "db8ed5bb",
   "metadata": {},
   "source": [
    "11. Create a function `create_zeros_array` that takes an integer `n` as input and returns a NumPy array of \n",
    "zeros with `n` elements."
   ]
  },
  {
   "cell_type": "code",
   "execution_count": 20,
   "id": "a057f8dd",
   "metadata": {},
   "outputs": [],
   "source": [
    "def create_zeros_array(n):\n",
    "    arr=np.zeros(n)\n",
    "    return arr"
   ]
  },
  {
   "cell_type": "code",
   "execution_count": 21,
   "id": "c041b2b7",
   "metadata": {},
   "outputs": [
    {
     "data": {
      "text/plain": [
       "array([0., 0., 0., 0., 0.])"
      ]
     },
     "execution_count": 21,
     "metadata": {},
     "output_type": "execute_result"
    }
   ],
   "source": [
    "create_zeros_array(5)"
   ]
  },
  {
   "cell_type": "markdown",
   "id": "f3aa740f",
   "metadata": {},
   "source": [
    "12. Write a function `create_ones_matrix` that takes integers `rows` and `cols` as inputs and generates a 2D \n",
    "NumPy array filled with ones of size `rows x cols`."
   ]
  },
  {
   "cell_type": "code",
   "execution_count": 22,
   "id": "204e119d",
   "metadata": {},
   "outputs": [],
   "source": [
    "def create_ones_matrix(rows,cols):\n",
    "    arr=np.ones(rows)\n",
    "    arr1=np.ones(cols)\n",
    "    return arr, arr1"
   ]
  },
  {
   "cell_type": "code",
   "execution_count": 23,
   "id": "f711133f",
   "metadata": {},
   "outputs": [
    {
     "data": {
      "text/plain": [
       "(array([1., 1., 1., 1., 1.]), array([1., 1., 1., 1., 1., 1.]))"
      ]
     },
     "execution_count": 23,
     "metadata": {},
     "output_type": "execute_result"
    }
   ],
   "source": [
    "create_ones_matrix((5),(6))"
   ]
  },
  {
   "cell_type": "markdown",
   "id": "02870734",
   "metadata": {},
   "source": [
    "13. Write a function `generate_range_array` that takes three integers start, stop, and step as arguments and \n",
    "creates a NumPy array with a range starting from `start`, ending at stop (exclusive), and with the specified \n",
    "`step`."
   ]
  },
  {
   "cell_type": "code",
   "execution_count": 24,
   "id": "00afdab3",
   "metadata": {},
   "outputs": [],
   "source": [
    "def generate_range_array(start, stop, step):\n",
    "    return np.arange(start, stop, step)"
   ]
  },
  {
   "cell_type": "code",
   "execution_count": 25,
   "id": "d389fe66",
   "metadata": {},
   "outputs": [
    {
     "data": {
      "text/plain": [
       "array([1, 4, 7])"
      ]
     },
     "execution_count": 25,
     "metadata": {},
     "output_type": "execute_result"
    }
   ],
   "source": [
    "generate_range_array(1,10,3)"
   ]
  },
  {
   "cell_type": "markdown",
   "id": "aacc6a5f",
   "metadata": {},
   "source": [
    "14. Design a function `generate_linear_space` that takes two floats `start`, `stop`, and an integer `num` as \n",
    "arguments and generates a NumPy array with num equally spaced values between `start` and `stop` \n",
    "(inclusive)."
   ]
  },
  {
   "cell_type": "code",
   "execution_count": 26,
   "id": "77df718c",
   "metadata": {},
   "outputs": [],
   "source": [
    "def generate_linear_space(start,stop,num=20):\n",
    "    return np.linspace(start,stop,num=20)"
   ]
  },
  {
   "cell_type": "code",
   "execution_count": 27,
   "id": "9eb09375",
   "metadata": {},
   "outputs": [
    {
     "data": {
      "text/plain": [
       "array([1.5       , 1.71578947, 1.93157895, 2.14736842, 2.36315789,\n",
       "       2.57894737, 2.79473684, 3.01052632, 3.22631579, 3.44210526,\n",
       "       3.65789474, 3.87368421, 4.08947368, 4.30526316, 4.52105263,\n",
       "       4.73684211, 4.95263158, 5.16842105, 5.38421053, 5.6       ])"
      ]
     },
     "execution_count": 27,
     "metadata": {},
     "output_type": "execute_result"
    }
   ],
   "source": [
    "generate_linear_space(1.5,5.6)"
   ]
  },
  {
   "cell_type": "markdown",
   "id": "856d1c1d",
   "metadata": {},
   "source": [
    "15. Create a function `create_identity_matrix` that takes an integer `n` as input and generates a square \n",
    "identity matrix of size `n x n` using `numpy.eye`."
   ]
  },
  {
   "cell_type": "code",
   "execution_count": 28,
   "id": "3e18a9f1",
   "metadata": {},
   "outputs": [],
   "source": [
    "def create_identity_matrix(n):\n",
    "    return np.eye(n)"
   ]
  },
  {
   "cell_type": "code",
   "execution_count": 29,
   "id": "06579ddb",
   "metadata": {},
   "outputs": [
    {
     "data": {
      "text/plain": [
       "array([[1., 0., 0.],\n",
       "       [0., 1., 0.],\n",
       "       [0., 0., 1.]])"
      ]
     },
     "execution_count": 29,
     "metadata": {},
     "output_type": "execute_result"
    }
   ],
   "source": [
    "create_identity_matrix(3)"
   ]
  },
  {
   "cell_type": "markdown",
   "id": "0e6fbd21",
   "metadata": {},
   "source": [
    "16. Write a function that takes a Python list and converts it into a NumPy array."
   ]
  },
  {
   "cell_type": "code",
   "execution_count": 30,
   "id": "aea2efc3",
   "metadata": {},
   "outputs": [],
   "source": [
    "def list_To_numpy(l):\n",
    "    return np.array(l)"
   ]
  },
  {
   "cell_type": "code",
   "execution_count": 31,
   "id": "c2dc9a6a",
   "metadata": {},
   "outputs": [
    {
     "data": {
      "text/plain": [
       "array([1, 5, 6, 8, 4])"
      ]
     },
     "execution_count": 31,
     "metadata": {},
     "output_type": "execute_result"
    }
   ],
   "source": [
    "list_To_numpy([1,5,6,8,4])"
   ]
  },
  {
   "cell_type": "markdown",
   "id": "85767b35",
   "metadata": {},
   "source": [
    "17. Create a NumPy array and demonstrate the use of `numpy.view` to create a new array object with the \n",
    "same data."
   ]
  },
  {
   "cell_type": "code",
   "execution_count": 32,
   "id": "43996790",
   "metadata": {},
   "outputs": [
    {
     "name": "stdout",
     "output_type": "stream",
     "text": [
      "[1 2 3 4 5 6]\n",
      "[[1 2 3]\n",
      " [4 5 6]] New data\n"
     ]
    }
   ],
   "source": [
    "arr=np.array([1,2,3,4,5,6])\n",
    "arr1=arr.view().reshape(2,3)\n",
    "arr1[1:3]\n",
    "print(arr)\n",
    "print(arr1,\"New data\")"
   ]
  },
  {
   "cell_type": "markdown",
   "id": "7e108760",
   "metadata": {},
   "source": [
    "18. Write a function that takes two NumPy arrays and concatenates them along a specified axis.\n"
   ]
  },
  {
   "cell_type": "code",
   "execution_count": 33,
   "id": "da3eed7f",
   "metadata": {},
   "outputs": [],
   "source": [
    "def numpy_conc(a,b,axis=0):\n",
    "    return np.concatenate((a,b),axis=axis)"
   ]
  },
  {
   "cell_type": "code",
   "execution_count": 34,
   "id": "0c01f171",
   "metadata": {},
   "outputs": [
    {
     "data": {
      "text/plain": [
       "array([1, 2, 3, 4, 5, 6])"
      ]
     },
     "execution_count": 34,
     "metadata": {},
     "output_type": "execute_result"
    }
   ],
   "source": [
    "numpy_conc([1,2,3],[4,5,6])"
   ]
  },
  {
   "cell_type": "markdown",
   "id": "c3ba6004",
   "metadata": {},
   "source": [
    "19. Create two NumPy arrays with different shapes and concatenate them horizontally using `numpy.\n",
    "\n",
    "concatenate`."
   ]
  },
  {
   "cell_type": "code",
   "execution_count": 35,
   "id": "af3a0702",
   "metadata": {},
   "outputs": [
    {
     "data": {
      "text/plain": [
       "array([1, 2, 3, 6, 7, 8, 9])"
      ]
     },
     "execution_count": 35,
     "metadata": {},
     "output_type": "execute_result"
    }
   ],
   "source": [
    "arr=np.array([1,2,3,6])\n",
    "arr1=np.array([7,8,9])\n",
    "arr2=np.concatenate((arr,arr1))\n",
    "arr2"
   ]
  },
  {
   "cell_type": "markdown",
   "id": "975f229b",
   "metadata": {},
   "source": [
    "20. Write a function that vertically stacks multiple NumPy arrays given as a list."
   ]
  },
  {
   "cell_type": "code",
   "execution_count": 36,
   "id": "3f43a98c",
   "metadata": {},
   "outputs": [],
   "source": [
    "def ver_stack(n):\n",
    "    return np.vstack(n)"
   ]
  },
  {
   "cell_type": "code",
   "execution_count": 37,
   "id": "9b46c693",
   "metadata": {},
   "outputs": [
    {
     "data": {
      "text/plain": [
       "array([[ 1],\n",
       "       [ 2],\n",
       "       [ 3],\n",
       "       [ 6],\n",
       "       [84],\n",
       "       [ 5],\n",
       "       [ 7]])"
      ]
     },
     "execution_count": 37,
     "metadata": {},
     "output_type": "execute_result"
    }
   ],
   "source": [
    "ver_stack([1,2,3,6,84,5,7])"
   ]
  },
  {
   "cell_type": "markdown",
   "id": "e0071cbd",
   "metadata": {},
   "source": [
    "21. Write a Python function using NumPy to create an array of integers within a specified range (inclusive) \n",
    "with a given step size."
   ]
  },
  {
   "cell_type": "code",
   "execution_count": 38,
   "id": "b30310a9",
   "metadata": {},
   "outputs": [],
   "source": [
    "def func(a,b,c=2):\n",
    "    return np.arange(a,b+1,c)"
   ]
  },
  {
   "cell_type": "code",
   "execution_count": 39,
   "id": "a15b7d8c",
   "metadata": {},
   "outputs": [
    {
     "data": {
      "text/plain": [
       "array([ 2,  4,  6,  8, 10])"
      ]
     },
     "execution_count": 39,
     "metadata": {},
     "output_type": "execute_result"
    }
   ],
   "source": [
    "func(2,10)"
   ]
  },
  {
   "cell_type": "markdown",
   "id": "a7e1f109",
   "metadata": {},
   "source": [
    "22. Write a Python function using NumPy to generate an array of 10 equally spaced values between 0 and 1 \n",
    "(inclusive)."
   ]
  },
  {
   "cell_type": "code",
   "execution_count": 40,
   "id": "1c071ef7",
   "metadata": {},
   "outputs": [
    {
     "data": {
      "text/plain": [
       "array([0.        , 0.11111111, 0.22222222, 0.33333333, 0.44444444,\n",
       "       0.55555556, 0.66666667, 0.77777778, 0.88888889, 1.        ])"
      ]
     },
     "execution_count": 40,
     "metadata": {},
     "output_type": "execute_result"
    }
   ],
   "source": [
    "def eq_spc_val():\n",
    "    return np.linspace(0,1,10)\n",
    "eq_spc_val()"
   ]
  },
  {
   "cell_type": "markdown",
   "id": "94365969",
   "metadata": {},
   "source": [
    "23. Write a Python function using NumPy to create an array of 5 logarithmically spaced values between 1 and \n",
    "1000 (inclusive)."
   ]
  },
  {
   "cell_type": "code",
   "execution_count": 41,
   "id": "d1478fb0",
   "metadata": {},
   "outputs": [],
   "source": [
    "def logarithmically_spaced(start,stop):\n",
    "    return np.logspace(start,stop,5)\n"
   ]
  },
  {
   "cell_type": "code",
   "execution_count": 42,
   "id": "2a18797e",
   "metadata": {},
   "outputs": [
    {
     "name": "stderr",
     "output_type": "stream",
     "text": [
      "C:\\Users\\shada\\anaconda3\\Lib\\site-packages\\numpy\\core\\function_base.py:284: RuntimeWarning: overflow encountered in power\n",
      "  return _nx.power(base, y)\n"
     ]
    },
    {
     "data": {
      "text/plain": [
       "array([1.00000000e+001, 5.62341325e+250,             inf,             inf,\n",
       "                   inf])"
      ]
     },
     "execution_count": 42,
     "metadata": {},
     "output_type": "execute_result"
    }
   ],
   "source": [
    "logarithmically_spaced(1,1000)"
   ]
  },
  {
   "cell_type": "markdown",
   "id": "dc7205ed",
   "metadata": {},
   "source": [
    "24. Create a Pandas DataFrame using a NumPy array that contains 5 rows and 3 columns, where the values \n",
    "are random integers between 1 and 100."
   ]
  },
  {
   "cell_type": "code",
   "execution_count": 43,
   "id": "56a9ec52",
   "metadata": {},
   "outputs": [
    {
     "data": {
      "text/html": [
       "<div>\n",
       "<style scoped>\n",
       "    .dataframe tbody tr th:only-of-type {\n",
       "        vertical-align: middle;\n",
       "    }\n",
       "\n",
       "    .dataframe tbody tr th {\n",
       "        vertical-align: top;\n",
       "    }\n",
       "\n",
       "    .dataframe thead th {\n",
       "        text-align: right;\n",
       "    }\n",
       "</style>\n",
       "<table border=\"1\" class=\"dataframe\">\n",
       "  <thead>\n",
       "    <tr style=\"text-align: right;\">\n",
       "      <th></th>\n",
       "      <th>Column1</th>\n",
       "      <th>Column2</th>\n",
       "      <th>Column3</th>\n",
       "    </tr>\n",
       "  </thead>\n",
       "  <tbody>\n",
       "    <tr>\n",
       "      <th>0</th>\n",
       "      <td>37</td>\n",
       "      <td>64</td>\n",
       "      <td>6</td>\n",
       "    </tr>\n",
       "    <tr>\n",
       "      <th>1</th>\n",
       "      <td>96</td>\n",
       "      <td>77</td>\n",
       "      <td>99</td>\n",
       "    </tr>\n",
       "    <tr>\n",
       "      <th>2</th>\n",
       "      <td>51</td>\n",
       "      <td>34</td>\n",
       "      <td>49</td>\n",
       "    </tr>\n",
       "    <tr>\n",
       "      <th>3</th>\n",
       "      <td>25</td>\n",
       "      <td>1</td>\n",
       "      <td>77</td>\n",
       "    </tr>\n",
       "    <tr>\n",
       "      <th>4</th>\n",
       "      <td>36</td>\n",
       "      <td>17</td>\n",
       "      <td>17</td>\n",
       "    </tr>\n",
       "  </tbody>\n",
       "</table>\n",
       "</div>"
      ],
      "text/plain": [
       "   Column1  Column2  Column3\n",
       "0       37       64        6\n",
       "1       96       77       99\n",
       "2       51       34       49\n",
       "3       25        1       77\n",
       "4       36       17       17"
      ]
     },
     "execution_count": 43,
     "metadata": {},
     "output_type": "execute_result"
    }
   ],
   "source": [
    "import pandas as pd\n",
    "\n",
    "n=np.random.randint(1,100,size=(5,3))\n",
    "df=pd.DataFrame(n,columns=['Column1', 'Column2', 'Column3'])\n",
    "df"
   ]
  },
  {
   "cell_type": "markdown",
   "id": "9152b5ee",
   "metadata": {},
   "source": [
    "25. Write a function that takes a Pandas DataFrame and replaces all negative values in a specific column \n",
    "with zeros. Use NumPy operations within the Pandas DataFrame."
   ]
  },
  {
   "cell_type": "code",
   "execution_count": null,
   "id": "29221246",
   "metadata": {},
   "outputs": [],
   "source": []
  },
  {
   "cell_type": "markdown",
   "id": "51ae83f7",
   "metadata": {},
   "source": [
    "26. Access the 3rd element from the given NumPy array."
   ]
  },
  {
   "cell_type": "code",
   "execution_count": 44,
   "id": "fb67cc59",
   "metadata": {},
   "outputs": [
    {
     "data": {
      "text/plain": [
       "array([40])"
      ]
     },
     "execution_count": 44,
     "metadata": {},
     "output_type": "execute_result"
    }
   ],
   "source": [
    "arr = np.array([10, 20, 30, 40, 50])\n",
    "arr[3:4]"
   ]
  },
  {
   "cell_type": "markdown",
   "id": "f95c3ae9",
   "metadata": {},
   "source": [
    "27. Retrieve the element at index (1, 2) from the 2D NumPy array."
   ]
  },
  {
   "cell_type": "code",
   "execution_count": 45,
   "id": "4bd44baa",
   "metadata": {},
   "outputs": [
    {
     "data": {
      "text/plain": [
       "6"
      ]
     },
     "execution_count": 45,
     "metadata": {},
     "output_type": "execute_result"
    }
   ],
   "source": [
    "arr_2d = np.array([[1, 2, 3],\n",
    "                   [4, 5, 6],\n",
    "                   [7, 8, 9]])\n",
    "arr_2d[1,2]"
   ]
  },
  {
   "cell_type": "markdown",
   "id": "5ecbc7a7",
   "metadata": {},
   "source": [
    "28. Using boolean indexing, extract elements greater than 5 from the given NumPy array."
   ]
  },
  {
   "cell_type": "code",
   "execution_count": 46,
   "id": "eaf760d3",
   "metadata": {},
   "outputs": [
    {
     "data": {
      "text/plain": [
       "array([ 8, 10,  7])"
      ]
     },
     "execution_count": 46,
     "metadata": {},
     "output_type": "execute_result"
    }
   ],
   "source": [
    "arr = np.array([3, 8, 2, 10, 5, 7])\n",
    "arr[arr>5]"
   ]
  },
  {
   "cell_type": "markdown",
   "id": "9c44fec3",
   "metadata": {},
   "source": [
    "29. Perform basic slicing to extract elements from index 2 to 5 (inclusive) from the given NumPy array."
   ]
  },
  {
   "cell_type": "code",
   "execution_count": 47,
   "id": "cb202965",
   "metadata": {},
   "outputs": [
    {
     "data": {
      "text/plain": [
       "array([2, 3, 4, 5])"
      ]
     },
     "execution_count": 47,
     "metadata": {},
     "output_type": "execute_result"
    }
   ],
   "source": [
    "arr = np.array([1, 2, 3, 4, 5, 6, 7, 8, 9])\n",
    "arr[1:5]"
   ]
  },
  {
   "cell_type": "markdown",
   "id": "73a78f88",
   "metadata": {},
   "source": [
    "30. Slice the 2D NumPy array to extract the sub-array `[[2, 3], [5, 6]]` from the given array"
   ]
  },
  {
   "cell_type": "code",
   "execution_count": 48,
   "id": "2d84bc5e",
   "metadata": {},
   "outputs": [
    {
     "data": {
      "text/plain": [
       "array([[2, 3],\n",
       "       [5, 6]])"
      ]
     },
     "execution_count": 48,
     "metadata": {},
     "output_type": "execute_result"
    }
   ],
   "source": [
    "arr_2d = np.array([[1, 2, 3],\n",
    "                   [4, 5, 6],\n",
    "                   [7, 8, 9]])\n",
    "arr_2d[:2,1:3]"
   ]
  },
  {
   "cell_type": "markdown",
   "id": "27253df1",
   "metadata": {},
   "source": [
    "31.Write a NumPy function to extract elements in specific order from a given 2D array based on indices \n",
    "provided in another array."
   ]
  },
  {
   "cell_type": "code",
   "execution_count": 49,
   "id": "e21df9e3",
   "metadata": {
    "scrolled": true
   },
   "outputs": [
    {
     "ename": "TypeError",
     "evalue": "arr_ind() missing 2 required positional arguments: 'a' and 'inc'",
     "output_type": "error",
     "traceback": [
      "\u001b[1;31m---------------------------------------------------------------------------\u001b[0m",
      "\u001b[1;31mTypeError\u001b[0m                                 Traceback (most recent call last)",
      "Cell \u001b[1;32mIn[49], line 11\u001b[0m\n\u001b[0;32m      6\u001b[0m     inc \u001b[38;5;241m=\u001b[39m np\u001b[38;5;241m.\u001b[39marray([[\u001b[38;5;241m0\u001b[39m, \u001b[38;5;241m1\u001b[39m],  \n\u001b[0;32m      7\u001b[0m                     [\u001b[38;5;241m3\u001b[39m, \u001b[38;5;241m2\u001b[39m],\n\u001b[0;32m      8\u001b[0m                     [\u001b[38;5;241m2\u001b[39m, \u001b[38;5;241m0\u001b[39m],\n\u001b[0;32m      9\u001b[0m                     [\u001b[38;5;241m1\u001b[39m, \u001b[38;5;241m2\u001b[39m]])\n\u001b[0;32m     10\u001b[0m     \u001b[38;5;28mprint\u001b[39m(a[inc])\n\u001b[1;32m---> 11\u001b[0m arr_ind()\n",
      "\u001b[1;31mTypeError\u001b[0m: arr_ind() missing 2 required positional arguments: 'a' and 'inc'"
     ]
    }
   ],
   "source": [
    "def arr_ind(a,inc):\n",
    "    a=np.array([[5, 10, 15],\n",
    "                [20, 25, 30],\n",
    "                [35, 40, 45],\n",
    "                [50, 55, 60]])\n",
    "    inc = np.array([[0, 1],  \n",
    "                    [3, 2],\n",
    "                    [2, 0],\n",
    "                    [1, 2]])\n",
    "    print(a[inc])\n",
    "arr_ind()"
   ]
  },
  {
   "cell_type": "markdown",
   "id": "b2000c34",
   "metadata": {},
   "source": [
    "32. Create a NumPy function that filters elements greater than a threshold from a given 1D array using \n",
    "boolean indexing."
   ]
  },
  {
   "cell_type": "code",
   "execution_count": null,
   "id": "64e902d6",
   "metadata": {},
   "outputs": [],
   "source": [
    "def greater_than(n,threshold):\n",
    "    b=np.array(n)\n",
    "    return b[b>threshold]\n",
    "greater_than([1,3,69,8,5,1,4,5,6,65,11],7)"
   ]
  },
  {
   "cell_type": "markdown",
   "id": "089edc09",
   "metadata": {},
   "source": [
    "33. Develop a NumPy function that extracts specific elements from a 3D array using indices provided in three \n",
    "separate arrays for each dimension."
   ]
  },
  {
   "cell_type": "code",
   "execution_count": null,
   "id": "463a0b3b",
   "metadata": {},
   "outputs": [],
   "source": [
    "def extract_elements_3d(arr_3d, indices_x, indices_y, indices_z):\n",
    "    return arr_3d[indices_x, indices_y, indices_z]\n",
    "arr_3d = np.array([[[ 11,  21,  13],\n",
    "                    [ 4,  15,  6],\n",
    "                    [ 17,  8,  19]],\n",
    "\n",
    "                   [[10, 11, 12],\n",
    "                    [13, 14, 15],\n",
    "                    [16, 17, 18]],\n",
    "\n",
    "                   [[19, 20, 26],\n",
    "                    [21, 25, 24],\n",
    "                    [25, 23, 29]]])\n",
    "\n",
    "indices_x = np.array([0, 1, 2])\n",
    "indices_y = np.array([2, 0, 1])\n",
    "indices_z = np.array([2, 1, 0])\n",
    "\n",
    "extracted_elements = extract_elements_3d(arr_3d, indices_x, indices_y, indices_z)\n",
    "\n",
    "print(extracted_elements)"
   ]
  },
  {
   "cell_type": "markdown",
   "id": "f2cb9b97",
   "metadata": {},
   "source": [
    "34. Write a NumPy function that returns elements from an array where both two conditions are satisfied \n",
    "using boolean indexing."
   ]
  },
  {
   "cell_type": "code",
   "execution_count": null,
   "id": "af33310d",
   "metadata": {},
   "outputs": [],
   "source": [
    "def filter_conditions(arr, cond_1, cond_2):\n",
    "    return arr[(cond_1(arr)) & (cond_2(arr))]\n",
    "arr = np.array([3, 8, 1, 12, 5, 18, 7])\n",
    "cond_1 = lambda x: x > 5\n",
    "cond_2 = lambda x: x < 15\n",
    "\n",
    "filtered_elements = filter_conditions(arr, cond_1, cond_2)\n",
    "\n",
    "print(filtered_elements) \n"
   ]
  },
  {
   "cell_type": "markdown",
   "id": "a008c6f5",
   "metadata": {},
   "source": [
    "35. Create a NumPy function that extracts elements from a 2D array using row and column indices provided \n",
    "in separate arrays."
   ]
  },
  {
   "cell_type": "code",
   "execution_count": null,
   "id": "c895b8f9",
   "metadata": {},
   "outputs": [],
   "source": [
    "def extract_2d(n,row,col):\n",
    "    return n[row,col]\n",
    "n=np.array([[10, 20, 30],\n",
    "            [40, 50, 60],\n",
    "            [70, 80, 90]])\n",
    "row=np.array([1,0,1])\n",
    "col=np.array([1,0,2])\n",
    "new=extract_2d(n,row,col)\n",
    "print(new)"
   ]
  },
  {
   "cell_type": "markdown",
   "id": "a43090ef",
   "metadata": {},
   "source": [
    "36. Given an array arr of shape (3, 3), add a scalar value of 5 to each element using NumPy broadcasting."
   ]
  },
  {
   "cell_type": "code",
   "execution_count": null,
   "id": "54054f67",
   "metadata": {},
   "outputs": [],
   "source": [
    "arr3=np.arange(1,10).reshape(3,3)\n",
    "print(arr3)\n",
    "arr3+5"
   ]
  },
  {
   "cell_type": "markdown",
   "id": "38a58c26",
   "metadata": {},
   "source": [
    "37. Consider two arrays arr1 of shape (1, 3) and arr2 of shape (3, 3). Multiply each row of arr2 by the \n",
    "corresponding element in arr1 using NumPy broadcasting."
   ]
  },
  {
   "cell_type": "code",
   "execution_count": null,
   "id": "13607406",
   "metadata": {},
   "outputs": [],
   "source": [
    "arr1=np.arange(1,4).reshape(1,3)\n",
    "arr2=np.arange(1,10).reshape(3,3)\n",
    "print(arr1)\n",
    "print(\"----------\")\n",
    "print(arr2)\n",
    "print(\"----------\")\n",
    "arr3=arr2*arr1\n",
    "print(arr3)"
   ]
  },
  {
   "cell_type": "markdown",
   "id": "cba31f63",
   "metadata": {},
   "source": [
    "38. Given a 1D array arr1 of shape (1, 4) and a 2D array arr2 of shape (4, 3), add arr1 to each row of arr2 using \n",
    "NumPy broadcasting."
   ]
  },
  {
   "cell_type": "code",
   "execution_count": null,
   "id": "cc1294aa",
   "metadata": {},
   "outputs": [],
   "source": [
    "arr1=np.arange(1,5).reshape(1,4)\n",
    "arr2=np.arange(1,13).reshape(3,4)\n",
    "arr3=arr1+arr2\n",
    "print(arr1)\n",
    "print(\"----------\")\n",
    "print(arr2)\n",
    "print(\"----------\")\n",
    "arr3=arr2+arr1\n",
    "print(arr3)"
   ]
  },
  {
   "cell_type": "markdown",
   "id": "e91a16eb",
   "metadata": {},
   "source": [
    "39. Consider two arrays arr1 of shape (3, 1) and arr2 of shape (1, 3). Add these arrays using NumPy \n",
    "broadcasting."
   ]
  },
  {
   "cell_type": "code",
   "execution_count": null,
   "id": "626b8557",
   "metadata": {},
   "outputs": [],
   "source": [
    "arr1=np.arange(1,4).reshape(3,1)\n",
    "arr2=np.arange(1,4).reshape(1,3)\n",
    "arr3=arr1+arr2\n",
    "print(arr1)\n",
    "print(\"----------\")\n",
    "print(arr2)\n",
    "print(\"----------\")\n",
    "arr3=arr1+arr2\n",
    "print(arr3)"
   ]
  },
  {
   "cell_type": "markdown",
   "id": "bb1223b4",
   "metadata": {},
   "source": [
    "40. Given arrays arr1 of shape (2, 3) and arr2 of shape (2, 2), perform multiplication using NumPy\n",
    "broadcasting. Handle the shape incompatibility."
   ]
  },
  {
   "cell_type": "code",
   "execution_count": null,
   "id": "6cd5e6f4",
   "metadata": {},
   "outputs": [],
   "source": [
    "arr1=np.arange(1,7).reshape(2,3)\n",
    "arr2=np.arange(1,5).reshape(2,2)\n",
    "arr_new=arr2.reshape(2,2,1)\n",
    "arr3=arr_new*arr1\n",
    "print(arr3)"
   ]
  },
  {
   "cell_type": "markdown",
   "id": "a5a4ecf2",
   "metadata": {},
   "source": [
    "41. Calculate column wise mean for the given array:"
   ]
  },
  {
   "cell_type": "code",
   "execution_count": null,
   "id": "ee1a3986",
   "metadata": {},
   "outputs": [],
   "source": [
    "arr = np.array([[1, 2, 3], [4, 5, 6]])\n",
    "column_mean=np.mean(arr,axis=0)\n",
    "column_mean"
   ]
  },
  {
   "cell_type": "markdown",
   "id": "3e5d27cc",
   "metadata": {},
   "source": [
    "42. Find maximum value in each row of the given array:"
   ]
  },
  {
   "cell_type": "code",
   "execution_count": null,
   "id": "7dcce665",
   "metadata": {},
   "outputs": [],
   "source": [
    "arr = np.array([[1, 2, 3], [4, 5, 6]])\n",
    "max_val=np.max(arr,axis=1)\n",
    "max_val"
   ]
  },
  {
   "cell_type": "markdown",
   "id": "a9efe429",
   "metadata": {},
   "source": [
    "43. For the given array, find indices of maximum value in each column."
   ]
  },
  {
   "cell_type": "code",
   "execution_count": null,
   "id": "d988daa9",
   "metadata": {},
   "outputs": [],
   "source": [
    "arr = np.array([[1, 2, 3], [4, 5, 6]])\n",
    "ind_max=np.argmax(arr,axis=0)\n",
    "ind_max"
   ]
  },
  {
   "cell_type": "markdown",
   "id": "cf417186",
   "metadata": {},
   "source": [
    "44. For the given array, apply custom function to calculate moving sum along rows."
   ]
  },
  {
   "cell_type": "code",
   "execution_count": 50,
   "id": "82cb0ac6",
   "metadata": {},
   "outputs": [
    {
     "data": {
      "text/plain": [
       "array([5, 7, 9])"
      ]
     },
     "execution_count": 50,
     "metadata": {},
     "output_type": "execute_result"
    }
   ],
   "source": [
    "arr = np.array([[1, 2, 3], [4, 5, 6]])\n",
    "cal_sum=np.sum(arr,axis=0)\n",
    "cal_sum"
   ]
  },
  {
   "cell_type": "markdown",
   "id": "c05578fa",
   "metadata": {},
   "source": [
    "45. In the given array, check if all elements in each column are even."
   ]
  },
  {
   "cell_type": "code",
   "execution_count": 51,
   "id": "43d4d2b7",
   "metadata": {},
   "outputs": [
    {
     "data": {
      "text/plain": [
       "array([ True, False])"
      ]
     },
     "execution_count": 51,
     "metadata": {},
     "output_type": "execute_result"
    }
   ],
   "source": [
    "arr = np.array([[2, 4, 6], [3, 5, 7]])\n",
    "check_even=np.all(arr%2==0,axis=1)\n",
    "check_even"
   ]
  },
  {
   "cell_type": "markdown",
   "id": "e8f78cfb",
   "metadata": {},
   "source": [
    "46. Given a NumPy array arr, reshape it into a matrix of dimensions `m` rows and `n` columns. Return the\n",
    "reshaped matrix."
   ]
  },
  {
   "cell_type": "code",
   "execution_count": 52,
   "id": "dc8f94fd",
   "metadata": {},
   "outputs": [
    {
     "data": {
      "text/plain": [
       "array([[1, 2, 3],\n",
       "       [4, 5, 6]])"
      ]
     },
     "execution_count": 52,
     "metadata": {},
     "output_type": "execute_result"
    }
   ],
   "source": [
    "original_array = np.array([1, 2, 3, 4, 5, 6]).reshape(2,3)\n",
    "original_array"
   ]
  },
  {
   "cell_type": "markdown",
   "id": "7c8ede63",
   "metadata": {},
   "source": [
    "47. Create a function that takes a matrix as input and returns the flattened array."
   ]
  },
  {
   "cell_type": "code",
   "execution_count": 53,
   "id": "800f9831",
   "metadata": {},
   "outputs": [
    {
     "name": "stdout",
     "output_type": "stream",
     "text": [
      "[1 2 3 4 5 6]\n"
     ]
    }
   ],
   "source": [
    "def flattened_array(input_matrix):\n",
    "    return input_matrix.flatten()\n",
    "input_matrix = np.array([[1, 2, 3], [4, 5, 6]])\n",
    "new=flattened_array(input_matrix)\n",
    "print(new)\n",
    "\n"
   ]
  },
  {
   "cell_type": "markdown",
   "id": "e02ab00a",
   "metadata": {},
   "source": [
    "48. Write a function that concatenates two given arrays along a specified axis."
   ]
  },
  {
   "cell_type": "code",
   "execution_count": 54,
   "id": "1accd4f2",
   "metadata": {},
   "outputs": [
    {
     "name": "stdout",
     "output_type": "stream",
     "text": [
      "Axis_0 [[1 2]\n",
      " [3 4]\n",
      " [5 6]\n",
      " [7 8]]\n",
      "Axis_1 [[1 2 5 6]\n",
      " [3 4 7 8]]\n"
     ]
    }
   ],
   "source": [
    "def conc_two_arr(array1,array2,axis=0):\n",
    "    return np.concatenate((array1,array2),axis=axis)\n",
    "array1 = np.array([[1, 2], [3, 4]])\n",
    "array2 = np.array([[5, 6], [7, 8]])\n",
    "axis0=conc_two_arr(array1,array2,axis=0)\n",
    "print(\"Axis_0\",axis0)\n",
    "axis1=conc_two_arr(array1,array2,axis=1)\n",
    "print(\"Axis_1\",axis1)"
   ]
  },
  {
   "cell_type": "markdown",
   "id": "82418be1",
   "metadata": {},
   "source": [
    "49. Create a function that splits an array into multiple sub-arrays along a specified axis."
   ]
  },
  {
   "cell_type": "code",
   "execution_count": 55,
   "id": "b05737ba",
   "metadata": {},
   "outputs": [
    {
     "name": "stdout",
     "output_type": "stream",
     "text": [
      "[[1 2 3]]\n",
      "[[4 5 6]]\n",
      "[[7 8 9]]\n"
     ]
    }
   ],
   "source": [
    "def Sub_arr(original_array):\n",
    "    return np.split(original_array,3)\n",
    "original_array = np.array([[1, 2, 3], [4, 5, 6], [7, 8, 9]])\n",
    "new=Sub_arr(original_array)\n",
    "for i in new:\n",
    "    print(i)"
   ]
  },
  {
   "cell_type": "markdown",
   "id": "eaa5bf02",
   "metadata": {},
   "source": [
    "50. Write a function that inserts and then deletes elements from a given array at specified indices."
   ]
  },
  {
   "cell_type": "code",
   "execution_count": 56,
   "id": "e636923c",
   "metadata": {},
   "outputs": [
    {
     "ename": "SyntaxError",
     "evalue": "invalid syntax (1199215084.py, line 2)",
     "output_type": "error",
     "traceback": [
      "\u001b[1;36m  Cell \u001b[1;32mIn[56], line 2\u001b[1;36m\u001b[0m\n\u001b[1;33m    return np.\u001b[0m\n\u001b[1;37m              ^\u001b[0m\n\u001b[1;31mSyntaxError\u001b[0m\u001b[1;31m:\u001b[0m invalid syntax\n"
     ]
    }
   ],
   "source": [
    "def func(original_array,indices_to_insert,values_to_insert,indices_to_delete):\n",
    "    return np.\n",
    "original_array = np.array([1, 2, 3, 4, 5])\n",
    "indices_to_insert = [2, 4]\n",
    "values_to_insert = [10, 11]\n",
    "indices_to_delete = [1, 3]"
   ]
  },
  {
   "cell_type": "code",
   "execution_count": null,
   "id": "f5809c95",
   "metadata": {},
   "outputs": [],
   "source": []
  },
  {
   "cell_type": "markdown",
   "id": "cb84aee4",
   "metadata": {},
   "source": [
    "51. Create a NumPy array `arr1` with random integers and another array `arr2` with integers from 1 to 10.\n",
    "Perform element-wise addition between `arr1` and `arr2`."
   ]
  },
  {
   "cell_type": "code",
   "execution_count": 57,
   "id": "446e5636",
   "metadata": {},
   "outputs": [
    {
     "name": "stdout",
     "output_type": "stream",
     "text": [
      "[ 1.30355642  1.83974395  3.34824815  2.98113222  5.9640554   6.95031387\n",
      "  6.03294844  8.11373694  8.19895024 10.41622277]\n"
     ]
    }
   ],
   "source": [
    "arr1=np.random.randn(10)\n",
    "arr2=np.arange(1,11)\n",
    "element_wise_addition=arr1+arr2\n",
    "print(element_wise_addition)"
   ]
  },
  {
   "cell_type": "markdown",
   "id": "d8091915",
   "metadata": {},
   "source": [
    "52. Generate a NumPy array `arr1` with sequential integers from 10 to 1 and another array `arr2` with integers\n",
    "from 1 to 10. Subtract `arr2` from `arr1` element-wise."
   ]
  },
  {
   "cell_type": "code",
   "execution_count": 58,
   "id": "4fe650d7",
   "metadata": {},
   "outputs": [
    {
     "name": "stdout",
     "output_type": "stream",
     "text": [
      "[10  8  6  4  2  0 -2 -4 -6 -8]\n"
     ]
    }
   ],
   "source": [
    "arr1=np.arange(11,1,-1)\n",
    "arr2=np.arange(1,11)\n",
    "sub=arr1-arr2\n",
    "print(sub)"
   ]
  },
  {
   "cell_type": "markdown",
   "id": "2b239e83",
   "metadata": {},
   "source": [
    "53. Create a NumPy array `arr1` with random integers and another array `arr2` with integers from 1 to 5.\n",
    "Perform element-wise multiplication between `arr1` and `arr2`."
   ]
  },
  {
   "cell_type": "code",
   "execution_count": 59,
   "id": "2b6834a3",
   "metadata": {},
   "outputs": [
    {
     "name": "stdout",
     "output_type": "stream",
     "text": [
      "[0.93411552 0.75886537 0.66025991 2.14030355 0.65155093]\n"
     ]
    }
   ],
   "source": [
    "arr1=np.random.rand(5)\n",
    "arr2=np.arange(1,6)\n",
    "mul=arr1*arr2\n",
    "print(mul)"
   ]
  },
  {
   "cell_type": "markdown",
   "id": "5095106d",
   "metadata": {},
   "source": [
    "54. Generate a NumPy array `arr1` with even integers from 2 to 10 and another array `arr2` with integers from 1\n",
    "to 5. Perform element-wise division of `arr1` by `arr2`."
   ]
  },
  {
   "cell_type": "code",
   "execution_count": 60,
   "id": "a3b8d36e",
   "metadata": {},
   "outputs": [
    {
     "name": "stdout",
     "output_type": "stream",
     "text": [
      "[2. 2. 2. 2. 2.]\n"
     ]
    }
   ],
   "source": [
    "arr1=np.arange(2,12,2)\n",
    "arr2=np.arange(1,6)\n",
    "div_arrs=arr1/arr2\n",
    "print(div_arrs)"
   ]
  },
  {
   "cell_type": "markdown",
   "id": "79ad1ae1",
   "metadata": {},
   "source": [
    "55. Create a NumPy array `arr1` with integers from 1 to 5 and another array `arr2` with the same numbers\n",
    "reversed. Calculate the exponentiation of `arr1` raised to the power of `arr2` element-wise."
   ]
  },
  {
   "cell_type": "code",
   "execution_count": 61,
   "id": "cc02d344",
   "metadata": {},
   "outputs": [
    {
     "name": "stdout",
     "output_type": "stream",
     "text": [
      "[ 1 16 27 16  5]\n"
     ]
    }
   ],
   "source": [
    "arr1=np.arange(1,6)\n",
    "arr2=np.arange(5,0,-1)\n",
    "expon_arr=np.power(arr1,arr2)\n",
    "print(expon_arr)"
   ]
  },
  {
   "cell_type": "markdown",
   "id": "67f6f72a",
   "metadata": {},
   "source": [
    "56. Write a function that counts the occurrences of a specific substring within a NumPy array of strings."
   ]
  },
  {
   "cell_type": "code",
   "execution_count": 62,
   "id": "e495ef27",
   "metadata": {},
   "outputs": [
    {
     "name": "stdout",
     "output_type": "stream",
     "text": [
      "[0 0 0 1 0]\n"
     ]
    }
   ],
   "source": [
    "def count_sub_str(arr,sub_str):\n",
    "    return np.char.count(arr,sub_str)\n",
    "arr = np.array(['hello', 'world', 'hello', 'numpy', 'hello'])\n",
    "sub_str='numpy'\n",
    "occur=count_sub_str(arr,sub_str)\n",
    "print(occur)\n",
    "\n"
   ]
  },
  {
   "cell_type": "markdown",
   "id": "41f91960",
   "metadata": {},
   "source": [
    "57. Write a function that extracts uppercase characters from a NumPy array of strings."
   ]
  },
  {
   "cell_type": "code",
   "execution_count": 63,
   "id": "3e1cc5de",
   "metadata": {},
   "outputs": [
    {
     "name": "stdout",
     "output_type": "stream",
     "text": [
      "['H' 'W' 'OAI' 'GPT']\n"
     ]
    }
   ],
   "source": [
    "def extract_upp(arr):\n",
    "    upper_case_char=np.array([''.join([char for char in string if char.isupper()]) for string in arr])\n",
    "    return upper_case_char\n",
    "arr = np.array(['Hello', 'World', 'OpenAI', 'GPT'])\n",
    "uppr=extract_upp(arr)\n",
    "print(uppr)"
   ]
  },
  {
   "cell_type": "markdown",
   "id": "484e47ce",
   "metadata": {},
   "source": [
    "58. Write a function that replaces occurrences of a substring in a NumPy array of strings with a new string."
   ]
  },
  {
   "cell_type": "code",
   "execution_count": 64,
   "id": "70265cf3",
   "metadata": {},
   "outputs": [
    {
     "ename": "TypeError",
     "evalue": "replace_subtr() takes 2 positional arguments but 3 were given",
     "output_type": "error",
     "traceback": [
      "\u001b[1;31m---------------------------------------------------------------------------\u001b[0m",
      "\u001b[1;31mTypeError\u001b[0m                                 Traceback (most recent call last)",
      "Cell \u001b[1;32mIn[64], line 4\u001b[0m\n\u001b[0;32m      2\u001b[0m     \u001b[38;5;28;01mreturn\u001b[39;00m np\u001b[38;5;241m.\u001b[39mchar\u001b[38;5;241m.\u001b[39mreplace(arr,new)\n\u001b[0;32m      3\u001b[0m arr \u001b[38;5;241m=\u001b[39m np\u001b[38;5;241m.\u001b[39marray([\u001b[38;5;124m'\u001b[39m\u001b[38;5;124mapple\u001b[39m\u001b[38;5;124m'\u001b[39m, \u001b[38;5;124m'\u001b[39m\u001b[38;5;124mbanana\u001b[39m\u001b[38;5;124m'\u001b[39m, \u001b[38;5;124m'\u001b[39m\u001b[38;5;124mgrape\u001b[39m\u001b[38;5;124m'\u001b[39m, \u001b[38;5;124m'\u001b[39m\u001b[38;5;124mpineapple\u001b[39m\u001b[38;5;124m'\u001b[39m])\n\u001b[1;32m----> 4\u001b[0m new_srt\u001b[38;5;241m=\u001b[39mreplace_subtr(arr,\u001b[38;5;124m'\u001b[39m\u001b[38;5;124mapples\u001b[39m\u001b[38;5;124m'\u001b[39m,\u001b[38;5;124m'\u001b[39m\u001b[38;5;124mgrapes\u001b[39m\u001b[38;5;124m'\u001b[39m)\n\u001b[0;32m      5\u001b[0m \u001b[38;5;28mprint\u001b[39m(new_srt)\n",
      "\u001b[1;31mTypeError\u001b[0m: replace_subtr() takes 2 positional arguments but 3 were given"
     ]
    }
   ],
   "source": [
    "def replace_subtr(arr,new):\n",
    "    return np.char.replace(arr,new)\n",
    "arr = np.array(['apple', 'banana', 'grape', 'pineapple'])\n",
    "new_srt=replace_subtr(arr,'apples','grapes')\n",
    "print(new_srt)\n"
   ]
  },
  {
   "cell_type": "markdown",
   "id": "0b468ad4",
   "metadata": {},
   "source": [
    "59. Write a function that concatenates strings in a NumPy array element-wise."
   ]
  },
  {
   "cell_type": "code",
   "execution_count": 65,
   "id": "75a44016",
   "metadata": {},
   "outputs": [
    {
     "name": "stdout",
     "output_type": "stream",
     "text": [
      "['HelloOpen' 'WorldAI']\n"
     ]
    }
   ],
   "source": [
    "def conc_str(arr1,arr2):\n",
    "    return np.char.add(arr1,arr2)\n",
    "arr1 = np.array(['Hello', 'World'])\n",
    "arr2 = np.array(['Open', 'AI'])\n",
    "new=conc_str(arr1,arr2)\n",
    "print(new)"
   ]
  },
  {
   "cell_type": "markdown",
   "id": "ceec513d",
   "metadata": {},
   "source": [
    "60. Write a function that finds the length of the longest string in a NumPy array."
   ]
  },
  {
   "cell_type": "code",
   "execution_count": 66,
   "id": "3db220dd",
   "metadata": {},
   "outputs": [
    {
     "name": "stdout",
     "output_type": "stream",
     "text": [
      "pineapple\n"
     ]
    }
   ],
   "source": [
    "def long_str(arr):\n",
    "    leng=np.vectorize(len)(arr)\n",
    "    longest_str_ind = np.argmax(leng)\n",
    "    return arr[longest_str_ind]\n",
    "\n",
    "arr = np.array(['apple', 'banana', 'grape', 'pineapple'])\n",
    "longest_str=long_str(arr)\n",
    "print(longest_str)\n"
   ]
  },
  {
   "cell_type": "markdown",
   "id": "646a7ff6",
   "metadata": {},
   "source": [
    "61. Create a dataset of 100 random integers between 1 and 1000. Compute the mean, median, variance, and\n",
    "standard deviation of the dataset using NumPy's functions."
   ]
  },
  {
   "cell_type": "code",
   "execution_count": 67,
   "id": "5624ffdb",
   "metadata": {},
   "outputs": [
    {
     "name": "stdout",
     "output_type": "stream",
     "text": [
      "[533 600 154 248 905  46 279 945 790 610 694 540 100 999 280 224 651 529\n",
      " 866 171 296 757 568 101 713 704 585 221 403 810  32 675 306 724 662 729\n",
      " 210 775 184 237 666 232 815 238 207 685 169 962 453 627 531 480 655 213\n",
      " 773 989 889 890 711 517 802 559 535 663 522 915 421 776 868 680  59 128\n",
      " 830 276 138 275 325 931 312 981 442   3 299 247 709 869 318 878 393 383\n",
      " 299 994 966 113 821 217 882 627 867 696]\n",
      "mean = 535.77 median = 563.5 variance = standard deviation = 283.1610444605684\n"
     ]
    }
   ],
   "source": [
    "dataset=np.random.randint(1,1001,size=100)\n",
    "mean=np.mean(dataset)\n",
    "median=np.median(dataset)\n",
    "variance=np.var(dataset)\n",
    "standard_deviation=np.std(dataset)\n",
    "print(dataset)\n",
    "print('mean','=',mean,'median','=',median,'variance','=','standard deviation','=',standard_deviation)"
   ]
  },
  {
   "cell_type": "markdown",
   "id": "8646a136",
   "metadata": {},
   "source": [
    "62. Generate an array of 50 random numbers between 1 and 100. Find the 25th and 75th percentiles of the\n",
    "dataset."
   ]
  },
  {
   "cell_type": "code",
   "execution_count": 68,
   "id": "9f5c342b",
   "metadata": {},
   "outputs": [
    {
     "name": "stdout",
     "output_type": "stream",
     "text": [
      "[19.75 75.  ]\n"
     ]
    }
   ],
   "source": [
    "arr=np.random.randint(1,101,50)\n",
    "perc=np.percentile(arr,[25,75])\n",
    "print(perc)\n"
   ]
  },
  {
   "cell_type": "markdown",
   "id": "9e7927dd",
   "metadata": {},
   "source": [
    "63. Create two arrays representing two sets of variables. Compute the correlation coefficient between these\n",
    "arrays using NumPy's `corrcoef` function."
   ]
  },
  {
   "cell_type": "code",
   "execution_count": 69,
   "id": "e289d6e0",
   "metadata": {},
   "outputs": [
    {
     "name": "stdout",
     "output_type": "stream",
     "text": [
      "[[ 1.         -0.74266059]\n",
      " [-0.74266059  1.        ]]\n"
     ]
    }
   ],
   "source": [
    "arr1=np.array([12,26,38,41,53])\n",
    "arr2=np.array([66,47,68,19,10])\n",
    "cor_coef=np.corrcoef(arr1,arr2)\n",
    "print(cor_coef)"
   ]
  },
  {
   "cell_type": "markdown",
   "id": "d1e28589",
   "metadata": {},
   "source": [
    "64. Create two matrices and perform matrix multiplication using NumPy's `dot` function.\n"
   ]
  },
  {
   "cell_type": "code",
   "execution_count": 70,
   "id": "380b633c",
   "metadata": {},
   "outputs": [
    {
     "name": "stdout",
     "output_type": "stream",
     "text": [
      "[[ 41  48  44]\n",
      " [ 92 123 107]\n",
      " [143 198 170]]\n"
     ]
    }
   ],
   "source": [
    "mat1=np.array([[1,2,3],\n",
    "              [4,5,6],\n",
    "               [7,8,9]])\n",
    "mat2=np.array([[2,9,6],\n",
    "              [6,9,7],\n",
    "              [9,7,8]])\n",
    "mat_mult=np.dot(mat1,mat2)\n",
    "print(mat_mult)"
   ]
  },
  {
   "cell_type": "markdown",
   "id": "65aab397",
   "metadata": {},
   "source": [
    "65. Create an array of 50 integers between 10 and 1000. Calculate the 10th, 50th (median), and 90th \n",
    "percentiles along with the first and third quartiles."
   ]
  },
  {
   "cell_type": "code",
   "execution_count": 71,
   "id": "1455a2b9",
   "metadata": {},
   "outputs": [
    {
     "name": "stdout",
     "output_type": "stream",
     "text": [
      "Array: [598 696  66 352 318 593 402 496 640 841 187 932  26 998 566 288 652 281\n",
      " 589 397 701 855 442 790 673 475 146 474 267 821 675 590 484 653  60 173\n",
      " 913 166 664 414 323 976 776 272 358 367 970 400 791 770]\n",
      "10th Percentile: 172.3\n",
      "Median (50th Percentile): 531.0\n",
      "90th Percentile: 860.8000000000001\n",
      "First Quartile (25th Percentile): 330.25\n",
      "Third Quartile (75th Percentile) 699.75\n"
     ]
    }
   ],
   "source": [
    "arr=np.random.randint(10,1000,size=50)\n",
    "\n",
    "percentile_10 = np.percentile(arr, 10)\n",
    "median = np.percentile(arr, 50)\n",
    "percentile_90 = np.percentile(arr, 90)\n",
    "\n",
    "first_quartile = np.percentile(arr, 25)\n",
    "third_quartile = np.percentile(arr, 75)\n",
    "print(f\"Array: {arr}\")\n",
    "print(f\"10th Percentile: {percentile_10}\")\n",
    "print(f\"Median (50th Percentile): {median}\")\n",
    "print(f\"90th Percentile: {percentile_90}\")\n",
    "print(f\"First Quartile (25th Percentile): {first_quartile}\")\n",
    "print(\"Third Quartile (75th Percentile) {}\".format(third_quartile))\n",
    "# print(f\"Third Quartile (75th Percentile): {third_quartile}\")"
   ]
  },
  {
   "cell_type": "markdown",
   "id": "69445995",
   "metadata": {},
   "source": [
    "66. Create a NumPy array of integers and find the index of a specific element.\n"
   ]
  },
  {
   "cell_type": "code",
   "execution_count": 72,
   "id": "5b0e4ba3",
   "metadata": {},
   "outputs": [
    {
     "data": {
      "text/plain": [
       "(array([1], dtype=int64),)"
      ]
     },
     "execution_count": 72,
     "metadata": {},
     "output_type": "execute_result"
    }
   ],
   "source": [
    "arr=np.array([ 11,7,8,9,10,54,15,16,1,17,2,11,12,13,23,46,51,6,18])\n",
    "ind_arr=np.where(arr==7)\n",
    "ind_arr"
   ]
  },
  {
   "cell_type": "markdown",
   "id": "a391c989",
   "metadata": {},
   "source": [
    "67. Generate a random NumPy array and sort it in ascending order."
   ]
  },
  {
   "cell_type": "code",
   "execution_count": 73,
   "id": "e87ac720",
   "metadata": {},
   "outputs": [
    {
     "name": "stdout",
     "output_type": "stream",
     "text": [
      "un_sorted [36 23 21 34 43 50 41  2 39  2 15  8 14 46 18 42 42 18 25 15 43 27 49 15\n",
      " 11 28 34  8 32  8 41 24 20 34 34 48 42 34 34 48 22  6 47 38  8 24 38 28\n",
      " 38  4]\n",
      "sorted_array [ 2  2  4  6  8  8  8  8 11 14 15 15 15 18 18 20 21 22 23 24 24 25 27 28\n",
      " 28 32 34 34 34 34 34 34 36 38 38 38 39 41 41 42 42 42 43 43 46 47 48 48\n",
      " 49 50]\n"
     ]
    }
   ],
   "source": [
    "arr=np.random.randint(1,51,size=50)\n",
    "print(\"un_sorted\",arr)\n",
    "sorted_arr=np.sort(arr)\n",
    "print(\"sorted_array\",sorted_arr)"
   ]
  },
  {
   "cell_type": "markdown",
   "id": "199b2f26",
   "metadata": {},
   "source": [
    "68. Filter elements >20  in the given NumPy array."
   ]
  },
  {
   "cell_type": "code",
   "execution_count": 74,
   "id": "3539e8b8",
   "metadata": {},
   "outputs": [
    {
     "data": {
      "text/plain": [
       "array([25, 42, 30])"
      ]
     },
     "execution_count": 74,
     "metadata": {},
     "output_type": "execute_result"
    }
   ],
   "source": [
    "arr = np.array([12, 25, 6, 42, 8, 30])\n",
    "arr[arr>20]"
   ]
  },
  {
   "cell_type": "markdown",
   "id": "4c1cbc33",
   "metadata": {},
   "source": [
    "69. Filter elements which are divisible by 3 from a given NumPy array.\n"
   ]
  },
  {
   "cell_type": "code",
   "execution_count": 75,
   "id": "8d5164fb",
   "metadata": {},
   "outputs": [
    {
     "data": {
      "text/plain": [
       "array([12, 15])"
      ]
     },
     "execution_count": 75,
     "metadata": {},
     "output_type": "execute_result"
    }
   ],
   "source": [
    "arr = np.array([1, 5, 8, 12, 15])\n",
    "arr[arr%3==0]"
   ]
  },
  {
   "cell_type": "markdown",
   "id": "8e867eae",
   "metadata": {},
   "source": [
    "70. Filter elements which are ≥ 20 and ≤ 40 from a given NumPy array.\n"
   ]
  },
  {
   "cell_type": "code",
   "execution_count": 76,
   "id": "f12e66ec",
   "metadata": {},
   "outputs": [
    {
     "data": {
      "text/plain": [
       "array([30])"
      ]
     },
     "execution_count": 76,
     "metadata": {},
     "output_type": "execute_result"
    }
   ],
   "source": [
    "arr = np.array([10, 20, 30, 40, 50])\n",
    "arr[(arr>20) & (arr<40)]"
   ]
  },
  {
   "cell_type": "markdown",
   "id": "0153432b",
   "metadata": {},
   "source": [
    "71. For the given NumPy array, check its byte order using the `dtype` attribute byteorder.\n"
   ]
  },
  {
   "cell_type": "code",
   "execution_count": 77,
   "id": "e3ff761e",
   "metadata": {},
   "outputs": [
    {
     "data": {
      "text/plain": [
       "'='"
      ]
     },
     "execution_count": 77,
     "metadata": {},
     "output_type": "execute_result"
    }
   ],
   "source": [
    "arr = np.array([1, 2, 3])\n",
    "check_byt=arr.dtype.byteorder\n",
    "check_byt"
   ]
  },
  {
   "cell_type": "markdown",
   "id": "de9584cd",
   "metadata": {},
   "source": [
    "72. For the given NumPy array, perform byte swapping in place using `byteswap()`.\n"
   ]
  },
  {
   "cell_type": "code",
   "execution_count": 78,
   "id": "f76730a0",
   "metadata": {},
   "outputs": [
    {
     "data": {
      "text/plain": [
       "array([16777216, 33554432, 50331648])"
      ]
     },
     "execution_count": 78,
     "metadata": {},
     "output_type": "execute_result"
    }
   ],
   "source": [
    "arr = np.array([1, 2, 3], dtype=np.int32)\n",
    "arr.byteswap(True)"
   ]
  },
  {
   "cell_type": "markdown",
   "id": "d1c88e8d",
   "metadata": {},
   "source": [
    "73. For the given NumPy array, swap its byte order without modifying the original array using \n",
    "`newbyteorder()`."
   ]
  },
  {
   "cell_type": "code",
   "execution_count": 79,
   "id": "4ed036bc",
   "metadata": {},
   "outputs": [
    {
     "data": {
      "text/plain": [
       "array([1, 2, 3])"
      ]
     },
     "execution_count": 79,
     "metadata": {},
     "output_type": "execute_result"
    }
   ],
   "source": [
    "arr = np.array([1, 2, 3], dtype=np.int32)\n",
    "swapped_arr=arr.byteswap().newbyteorder()\n",
    "swapped_arr"
   ]
  },
  {
   "cell_type": "markdown",
   "id": "a9671b80",
   "metadata": {},
   "source": [
    "74. For the given NumPy array and swap its byte order conditionally based on system endianness using \n",
    "`newbyteorder()`."
   ]
  },
  {
   "cell_type": "code",
   "execution_count": 80,
   "id": "aa1f34ff",
   "metadata": {},
   "outputs": [],
   "source": [
    "import sys"
   ]
  },
  {
   "cell_type": "code",
   "execution_count": 81,
   "id": "a34962d4",
   "metadata": {},
   "outputs": [
    {
     "name": "stdout",
     "output_type": "stream",
     "text": [
      "System endianness: little\n",
      "Original array: [1 2 3]\n",
      "Conditionally byte-swapped array: [16777216 33554432 50331648]\n"
     ]
    }
   ],
   "source": [
    "arr = np.array([1, 2, 3], dtype=np.int32)\n",
    "system_endianness = sys.byteorder\n",
    "\n",
    "if system_endianness == 'little':\n",
    "    swapped_arr = arr.newbyteorder('>')\n",
    "else:\n",
    "    swapped_arr = arr.newbyteorder('<')\n",
    "\n",
    "print(\"System endianness:\", system_endianness)\n",
    "print(\"Original array:\", arr)\n",
    "print(\"Conditionally byte-swapped array:\", swapped_arr)"
   ]
  },
  {
   "cell_type": "markdown",
   "id": "ccc928b6",
   "metadata": {},
   "source": [
    "75. For the given NumPy array, check if byte swapping is necessary for the current system using `dtype` \n",
    "attribute `byteorder`."
   ]
  },
  {
   "cell_type": "code",
   "execution_count": 82,
   "id": "06494899",
   "metadata": {},
   "outputs": [
    {
     "name": "stdout",
     "output_type": "stream",
     "text": [
      "Byte swapping is NOT necessary.\n",
      "System endianness: little\n",
      "Array byte order: =\n"
     ]
    }
   ],
   "source": [
    "arr = np.array([1, 2, 3], dtype=np.int32)\n",
    "\n",
    "system_endianness = sys.byteorder\n",
    "\n",
    "array_byteorder = arr.dtype.byteorder\n",
    "\n",
    "if (system_endianness == 'little' and array_byteorder == '>') or (system_endianness == 'big' and array_byteorder == '<'):\n",
    "    print(\"Byte swapping is necessary.\")\n",
    "else:\n",
    "    print(\"Byte swapping is NOT necessary.\")\n",
    "\n",
    "print(f\"System endianness: {system_endianness}\")\n",
    "print(f\"Array byte order: {array_byteorder}\")"
   ]
  },
  {
   "cell_type": "markdown",
   "id": "5714f754",
   "metadata": {},
   "source": [
    "76. Create a NumPy array `arr1` with values from 1 to 10. Create a copy of `arr1` named `copy_arr` and modify \n",
    "an element in `copy_arr`. Check if modifying `copy_arr` affects `arr1`."
   ]
  },
  {
   "cell_type": "code",
   "execution_count": 83,
   "id": "f38c1416",
   "metadata": {},
   "outputs": [
    {
     "name": "stdout",
     "output_type": "stream",
     "text": [
      "original_arr [ 1  2  3  4  5  6  7  8  9 10]\n",
      "copy_arr [ 1  2  3  4  5  6  7  8 11 10]\n"
     ]
    }
   ],
   "source": [
    "arr1=np.arange(1,11)\n",
    "print('original_arr',arr1)\n",
    "copy_arr=arr1.copy()\n",
    "copy_arr[8]=11\n",
    "print('copy_arr',copy_arr)"
   ]
  },
  {
   "cell_type": "markdown",
   "id": "36865f67",
   "metadata": {},
   "source": [
    "77. Create a 2D NumPy array `matrix` of shape (3, 3) with random integers. Extract a slice `view_slice` from \n",
    "the matrix. Modify an element in `view_slice` and observe if it changes the original `matrix`."
   ]
  },
  {
   "cell_type": "code",
   "execution_count": 84,
   "id": "c046eed3",
   "metadata": {
    "scrolled": true
   },
   "outputs": [
    {
     "name": "stdout",
     "output_type": "stream",
     "text": [
      "Original matrix:\n",
      " [[ 3  9  9]\n",
      " [10  1  7]\n",
      " [ 8  6  3]]\n",
      "View slice:\n",
      " [[ 3  9]\n",
      " [10  1]]\n",
      "\n",
      "Modified view slice:\n",
      " [[99  9]\n",
      " [10  1]]\n",
      "Original matrix after modifying the slice:\n",
      " [[99  9  9]\n",
      " [10  1  7]\n",
      " [ 8  6  3]]\n"
     ]
    }
   ],
   "source": [
    "matrix = np.random.randint(1, 11, (3, 3))\n",
    "\n",
    "view_slice = matrix[:2, :2]\n",
    "\n",
    "print(\"Original matrix:\\n\", matrix)\n",
    "print(\"View slice:\\n\", view_slice)\n",
    "\n",
    "view_slice[0, 0] = 99\n",
    "\n",
    "print(\"\\nModified view slice:\\n\", view_slice)\n",
    "print(\"Original matrix after modifying the slice:\\n\", matrix)"
   ]
  },
  {
   "cell_type": "markdown",
   "id": "5e1877f8",
   "metadata": {},
   "source": [
    "78. Create a NumPy array `array_a` of shape (4, 3) with sequential integers from 1 to 12. Extract a slice \n",
    "`view_b` from `array_a` and broadcast the addition of 5 to view_b. Check if it alters the original `array_a`."
   ]
  },
  {
   "cell_type": "code",
   "execution_count": 108,
   "id": "dcf602b4",
   "metadata": {},
   "outputs": [
    {
     "name": "stdout",
     "output_type": "stream",
     "text": [
      "arra_a\n",
      " [[ 9  7  4]\n",
      " [ 2  6  9]\n",
      " [ 9 11  7]\n",
      " [11  8  7]]\n",
      "broad_cst_5\n",
      " [[14 12]\n",
      " [ 7 11]]\n",
      "view_b\n",
      " [[9 7]\n",
      " [2 6]]\n"
     ]
    }
   ],
   "source": [
    "array_a=np.random.randint(1,12,(4,3))\n",
    "view_b=array_a[:2,:2]\n",
    "broad=view_b+5\n",
    "print(\"arra_a\\n\",array_a)\n",
    "print('broad_cst_5\\n',broad)\n",
    "print('view_b\\n',view_b)"
   ]
  },
  {
   "cell_type": "markdown",
   "id": "b02084d0",
   "metadata": {},
   "source": [
    "79. Create a NumPy array `orig_array` of shape (2, 4) with values from 1 to 8. Create a reshaped view \n",
    "`reshaped_view` of shape (4, 2) from orig_array. Modify an element in `reshaped_view` and check if it \n",
    "reflects changes in the original `orig_array`."
   ]
  },
  {
   "cell_type": "code",
   "execution_count": 110,
   "id": "98118014",
   "metadata": {},
   "outputs": [
    {
     "name": "stdout",
     "output_type": "stream",
     "text": [
      "[[1 2 3 4]\n",
      " [5 6 7 8]]\n",
      "Original Array (orig_array):\n",
      "[[  1   2   3   4]\n",
      " [  5 100   7   8]]\n",
      "\n",
      "Reshaped View (reshaped_view):\n",
      "[[  1   2]\n",
      " [  3   4]\n",
      " [  5 100]\n",
      " [  7   8]]\n"
     ]
    }
   ],
   "source": [
    "orig_array = np.arange(1, 9).reshape(2, 4)\n",
    "print(orig_array)\n",
    "reshaped_view = orig_array.reshape(4, 2)\n",
    "\n",
    "reshaped_view[2, 1] = 100\n",
    "\n",
    "print(\"Original Array (orig_array):\")\n",
    "print(orig_array)\n",
    "\n",
    "print(\"\\nReshaped View (reshaped_view):\")\n",
    "print(reshaped_view)"
   ]
  },
  {
   "cell_type": "markdown",
   "id": "7287995a",
   "metadata": {},
   "source": [
    "80. Create a NumPy array `data` of shape (3, 4) with random integers. Extract a copy `data_copy` of \n",
    "elements greater than 5. Modify an element in `data_copy` and verify if it affects the original `data`."
   ]
  },
  {
   "cell_type": "code",
   "execution_count": 119,
   "id": "1e6d0817",
   "metadata": {},
   "outputs": [
    {
     "name": "stdout",
     "output_type": "stream",
     "text": [
      "original data\n",
      " [[ 1  2  3  4]\n",
      " [ 5  6  7  8]\n",
      " [ 9 10 11 12]]\n",
      "copy_data\n",
      " [[ 1  2  3  4]\n",
      " [ 5  6  7  8]\n",
      " [ 9 10 11 12]]\n",
      "modify_data\n",
      " 12\n"
     ]
    }
   ],
   "source": [
    "data=np.arange(1,13).reshape(3,4)\n",
    "print('original data\\n',data)\n",
    "data_copy=data.copy()\n",
    "print('copy_data\\n',data_copy)\n",
    "greater_5=data_copy[data_copy>5]\n",
    "modify=greater_5[3]=12\n",
    "print('modify_data\\n',modify)"
   ]
  },
  {
   "cell_type": "markdown",
   "id": "09231003",
   "metadata": {},
   "source": [
    "81. Create two matrices A and B of identical shape containing integers and perform addition and subtraction \n",
    "operations between them."
   ]
  },
  {
   "cell_type": "code",
   "execution_count": 126,
   "id": "aaf797b2",
   "metadata": {},
   "outputs": [
    {
     "name": "stdout",
     "output_type": "stream",
     "text": [
      "[[10 12 23]\n",
      " [14  5 16]\n",
      " [27  8 19]]\n",
      "addition\n",
      " [[21 44 54]\n",
      " [18 20 42]\n",
      " [44 26 68]]\n",
      "[[11 32 31]\n",
      " [ 4 15 26]\n",
      " [17 18 49]]\n",
      "subtraction\n",
      " [[ -1 -20  -8]\n",
      " [ 10 -10 -10]\n",
      " [ 10 -10 -30]]\n"
     ]
    }
   ],
   "source": [
    "A=np.matrix([[10, 12, 23], [14, 5, 16], [27, 8, 19]])\n",
    "B=np.matrix([[11, 32, 31], [4, 15, 26], [17, 18, 49]])\n",
    "add=A+B\n",
    "print(A)\n",
    "print(\"addition\\n\",add)\n",
    "sub=A-B\n",
    "print(B)\n",
    "print(\"subtraction\\n\",sub)"
   ]
  },
  {
   "cell_type": "markdown",
   "id": "fd486746",
   "metadata": {},
   "source": [
    "82. Generate two matrices `C` (3x2) and `D` (2x4) and perform matrix multiplication."
   ]
  },
  {
   "cell_type": "code",
   "execution_count": 137,
   "id": "dc50e8b8",
   "metadata": {},
   "outputs": [
    {
     "name": "stdout",
     "output_type": "stream",
     "text": [
      "[[27 39 30 28]\n",
      " [17 23 19 16]\n",
      " [47 71 52 52]]\n"
     ]
    }
   ],
   "source": [
    "C = np.random.randint(1, 10, (3, 2))\n",
    "D = np.random.randint(1, 10, (2, 4))\n",
    "mul=np.dot(C,D)\n",
    "print(mul)"
   ]
  },
  {
   "cell_type": "markdown",
   "id": "a785c05d",
   "metadata": {},
   "source": [
    "83. Create a matrix `E` and find its transpose."
   ]
  },
  {
   "cell_type": "code",
   "execution_count": 149,
   "id": "d5e82457",
   "metadata": {},
   "outputs": [
    {
     "name": "stdout",
     "output_type": "stream",
     "text": [
      "[[8 9 9]\n",
      " [2 6 4]\n",
      " [5 1 7]]\n",
      "Transpose\n",
      " [[8 2 5]\n",
      " [9 6 1]\n",
      " [9 4 7]]\n"
     ]
    }
   ],
   "source": [
    "E = np.random.randint(1, 10, (3,3))\n",
    "print(E)\n",
    "tran=np.transpose(E)\n",
    "print(\"Transpose\\n\",tran)"
   ]
  },
  {
   "cell_type": "markdown",
   "id": "78912de2",
   "metadata": {},
   "source": [
    "84. Generate a square matrix `F` and compute its determinant."
   ]
  },
  {
   "cell_type": "code",
   "execution_count": 154,
   "id": "17916177",
   "metadata": {},
   "outputs": [
    {
     "name": "stdout",
     "output_type": "stream",
     "text": [
      "-226456.00000000012\n"
     ]
    }
   ],
   "source": [
    "F=np.random.randint(1,36,(4,4))\n",
    "determinant = np.linalg.det(F)\n",
    "print(determinant)"
   ]
  },
  {
   "cell_type": "markdown",
   "id": "076fcb9b",
   "metadata": {},
   "source": [
    "85. Create a square matrix `G` and find its inverse."
   ]
  },
  {
   "cell_type": "code",
   "execution_count": 155,
   "id": "b487898c",
   "metadata": {},
   "outputs": [
    {
     "name": "stdout",
     "output_type": "stream",
     "text": [
      "[[1 2]\n",
      " [3 4]]\n",
      "[[-2.   1. ]\n",
      " [ 1.5 -0.5]]\n"
     ]
    }
   ],
   "source": [
    "G = np.array([[1, 2], [3, 4]])\n",
    "print(G)\n",
    "G_inv = np.linalg.inv(G)\n",
    "print(G_inv)"
   ]
  },
  {
   "cell_type": "code",
   "execution_count": null,
   "id": "7adb2525",
   "metadata": {},
   "outputs": [],
   "source": []
  }
 ],
 "metadata": {
  "kernelspec": {
   "display_name": "Python 3 (ipykernel)",
   "language": "python",
   "name": "python3"
  },
  "language_info": {
   "codemirror_mode": {
    "name": "ipython",
    "version": 3
   },
   "file_extension": ".py",
   "mimetype": "text/x-python",
   "name": "python",
   "nbconvert_exporter": "python",
   "pygments_lexer": "ipython3",
   "version": "3.11.5"
  }
 },
 "nbformat": 4,
 "nbformat_minor": 5
}
